{
  "nbformat": 4,
  "nbformat_minor": 0,
  "metadata": {
    "kernelspec": {
      "display_name": "Python 3",
      "language": "python",
      "name": "python3"
    },
    "language_info": {
      "codemirror_mode": {
        "name": "ipython",
        "version": 3
      },
      "file_extension": ".py",
      "mimetype": "text/x-python",
      "name": "python",
      "nbconvert_exporter": "python",
      "pygments_lexer": "ipython3",
      "version": "3.6.9"
    },
    "colab": {
      "name": "Task_1.ipynb",
      "provenance": []
    }
  },
  "cells": [
    {
      "cell_type": "markdown",
      "metadata": {
        "id": "KfvpHM3MHpZs"
      },
      "source": [
        "# Задание 1\n",
        "\n",
        "[Свертка списка](https://ru.wikipedia.org/wiki/%D0%A1%D0%B2%D1%91%D1%80%D1%82%D0%BA%D0%B0_%D1%81%D0%BF%D0%B8%D1%81%D0%BA%D0%B0) -  это обобщенная операция над списком, c помощью которой можно преобразовать список в единое значение. Например, рассмотрим реализации свертки слева и свертки справа (левоассоциативную свертку и правоассоциативную свертку):"
      ]
    },
    {
      "cell_type": "code",
      "metadata": {
        "jupyter": {
          "outputs_hidden": true
        },
        "id": "BI049u2oHpZs"
      },
      "source": [
        "def foldl(f, x0, lst):\n",
        "    if not lst:\n",
        "        return x0\n",
        "    return foldl(f, f(x0, lst[0]), lst[1:])\n",
        "\n",
        "def foldr(f, x0, lst):\n",
        "    if not lst:\n",
        "        return x0\n",
        "    return f(lst[0], foldr(f, x0, lst[1:]))"
      ],
      "execution_count": null,
      "outputs": []
    },
    {
      "cell_type": "code",
      "metadata": {
        "id": "iVXk9aM5HpZt",
        "colab": {
          "base_uri": "https://localhost:8080/"
        },
        "outputId": "31967c13-fc3b-4405-839d-16e99b29a95a"
      },
      "source": [
        "#сумма\n",
        "foldl(lambda x, y: x + y, 0, [1, 2, 3])"
      ],
      "execution_count": null,
      "outputs": [
        {
          "output_type": "execute_result",
          "data": {
            "text/plain": [
              "6"
            ]
          },
          "metadata": {
            "tags": []
          },
          "execution_count": 4
        }
      ]
    },
    {
      "cell_type": "code",
      "metadata": {
        "id": "NrG92rv2HpZw",
        "outputId": "293b194a-b60a-4922-e292-940a33035db5"
      },
      "source": [
        "#конкатенация\n",
        "foldl(lambda x, y: '{}{}'.format(x, y), '', [1, 2, 3])"
      ],
      "execution_count": null,
      "outputs": [
        {
          "output_type": "execute_result",
          "data": {
            "text/plain": [
              "'123'"
            ]
          },
          "metadata": {
            "tags": []
          },
          "execution_count": 4
        }
      ]
    },
    {
      "cell_type": "code",
      "metadata": {
        "id": "NgcOpQkIHpZw",
        "colab": {
          "base_uri": "https://localhost:8080/"
        },
        "outputId": "95400a50-db27-4354-c579-97daed9d5f15"
      },
      "source": [
        "f = lambda x, y: x / y\n",
        "foldl(f, 1, [1, 2, 3]), \\\n",
        "foldr(f, 1, [1, 2, 3])"
      ],
      "execution_count": null,
      "outputs": [
        {
          "output_type": "execute_result",
          "data": {
            "text/plain": [
              "(0.16666666666666666, 1.5)"
            ]
          },
          "metadata": {
            "tags": []
          },
          "execution_count": 5
        }
      ]
    },
    {
      "cell_type": "markdown",
      "metadata": {
        "id": "gTCCuhDPHpZx"
      },
      "source": [
        "Задача: реализовать foldl через foldr и наоборот. Вместо многоточий нужно вставить выражения, которые бы привели к нужному результату. Модифицировать сам список нельзя. "
      ]
    },
    {
      "cell_type": "code",
      "metadata": {
        "jupyter": {
          "outputs_hidden": true
        },
        "id": "3w8jNStgHpZx"
      },
      "source": [
        "def foldl2(f, x0, lst):\n",
        "     return foldr(lambda x, g: lambda y: g(f(y, x)), lambda x: x, lst)(x0)"
      ],
      "execution_count": null,
      "outputs": []
    },
    {
      "cell_type": "code",
      "metadata": {
        "jupyter": {
          "outputs_hidden": true
        },
        "id": "M9j6K0gyHpZy"
      },
      "source": [
        "def foldr2(f, x0, lst):\n",
        "    return foldl(lambda g, x: lambda y: g(f(x, y)), lambda x: x, lst)(x0)"
      ],
      "execution_count": null,
      "outputs": []
    },
    {
      "cell_type": "code",
      "metadata": {
        "colab": {
          "base_uri": "https://localhost:8080/"
        },
        "id": "mXlBGY4nLgEn",
        "outputId": "dd37ea76-fd16-4ad5-820a-2bd1cfd9ecbf"
      },
      "source": [
        "print(foldl2(lambda x, y: x + y, 0, [1, 2, 3]))\n",
        "\n",
        "print(foldl2(lambda x, y: '{}{}'.format(x, y), '', [1, 2, 3]))\n",
        "\n",
        "f = lambda x, y: x / y\n",
        "print(foldl2(f, 1, [1, 2, 3]), foldr2(f, 1, [1, 2, 3]))"
      ],
      "execution_count": null,
      "outputs": [
        {
          "output_type": "stream",
          "text": [
            "6\n",
            "123\n",
            "0.16666666666666666 1.5\n"
          ],
          "name": "stdout"
        }
      ]
    },
    {
      "cell_type": "markdown",
      "metadata": {
        "id": "MV6tE62sHpZy"
      },
      "source": [
        "# Задание 2\n",
        "\n",
        "нужно написать функцию, которая принимает две строки и проверяет, входит ли хотя бы одна перестановка второй строки в первую. Например:\n",
        "\n",
        "> a = 'abcrotm'\n",
        "> \n",
        "> b = 'tro'\n",
        "\n",
        "функция def check_inv(a, b) вернет True, так как 'rot' содержится в 'abcrotm'. Нужно подумать как можно более оптимальный алгоритм и оценить его сложность. "
      ]
    },
    {
      "cell_type": "code",
      "metadata": {
        "jupyter": {
          "outputs_hidden": true
        },
        "id": "ibj07lVlHpZy"
      },
      "source": [
        "def check_inv(a, b):\n",
        "\n",
        "    uniq_a = set(a)\n",
        "    dict_b = {s: 0 for s in uniq_a}\n",
        "    for s in b:\n",
        "      try:\n",
        "        dict_b[s] += 1\n",
        "      except KeyError:\n",
        "        return False\n",
        "    \n",
        "    dict_a = {s: 0 for s in uniq_a}\n",
        "    for s in a[:len(b) - 1]:\n",
        "        dict_a[s] += 1\n",
        "            \n",
        "    for i in range(len(b) - 1, len(a)):\n",
        "        dict_a[a[i]] += 1\n",
        "        if(dict_a == dict_b):\n",
        "            return True\n",
        "        dict_a[a[i - len(b) + 1]] -= 1\n",
        "        \n",
        "    return False"
      ],
      "execution_count": 8,
      "outputs": []
    },
    {
      "cell_type": "markdown",
      "metadata": {
        "id": "5Es11FZW9Dd9"
      },
      "source": [
        "Так как в алгоритме мы один раз проходимся по по всем символам, то, думаю, алгоритм работает за линейное время от сумм длин строк т.е. О(len(a) + len(b))"
      ]
    },
    {
      "cell_type": "code",
      "metadata": {
        "colab": {
          "base_uri": "https://localhost:8080/"
        },
        "id": "Bd9eAM0L7-mZ",
        "outputId": "a7fbb908-1cb4-4ce8-e28c-5dc876b4da3f"
      },
      "source": [
        "print(check_inv('abcrotm', 'tor'))\n",
        "print(check_inv('abcrotm', 'rit'))\n",
        "print(check_inv('abcrotm', 'rtm'))"
      ],
      "execution_count": 15,
      "outputs": [
        {
          "output_type": "stream",
          "text": [
            "True\n",
            "False\n",
            "False\n"
          ],
          "name": "stdout"
        }
      ]
    },
    {
      "cell_type": "markdown",
      "metadata": {
        "id": "3-JCAtIKHpZy"
      },
      "source": [
        "# Задание 3\n",
        "\n",
        "Реализовать бинарное дерево (класс Tree), в нём методы __repr__, __str__, __iter__ (итерация только по листьям)."
      ]
    },
    {
      "cell_type": "code",
      "metadata": {
        "id": "0M9cRGDYHpZy",
        "colab": {
          "base_uri": "https://localhost:8080/"
        },
        "outputId": "64ec0eea-7561-40f5-8f14-b16218fc002f"
      },
      "source": [
        "class Tree:\n",
        "    def __init__(self, value=None, left=None, right=None):\n",
        "        self.left = left\n",
        "        self.right = right\n",
        "        self.value = value\n",
        "        \n",
        "    def __iter__(self):\n",
        "      if (self.left == None and self.right == None):\n",
        "            yield self.value\n",
        "      else:\n",
        "        if (self.left):\n",
        "            yield from self.left\n",
        "        if (self.right):\n",
        "            yield from self.right\n",
        "\n",
        "    \n",
        "    def __str__(self):\n",
        "        return 'Tree ({})'.format(self.value)\n",
        "    \n",
        "    def __repr__(self):\n",
        "        return 'Tree ({})'.format(self.value)\n",
        "    \n",
        "tree = Tree(0, Tree(1, Tree(3), Tree(4)),                             \n",
        "               Tree(2))\n",
        "\n",
        "list(tree) == [3, 4, 2]"
      ],
      "execution_count": 17,
      "outputs": [
        {
          "output_type": "execute_result",
          "data": {
            "text/plain": [
              "True"
            ]
          },
          "metadata": {
            "tags": []
          },
          "execution_count": 17
        }
      ]
    },
    {
      "cell_type": "markdown",
      "metadata": {
        "id": "JNiu9AK1HpZy"
      },
      "source": [
        "# Задание 4\n",
        "\n",
        "Реализовать простейший калькулятор математических выражений:\n",
        "- только целые числа\n",
        "- **+**, **\\-**, **\\***, **\\**\n",
        "- скобки\n",
        "\n",
        "**Можно использовать регулярные выражения**"
      ]
    },
    {
      "cell_type": "code",
      "metadata": {
        "id": "GgVO8kWWHpZy",
        "colab": {
          "base_uri": "https://localhost:8080/"
        },
        "outputId": "73b0d620-d081-4f06-94bb-ce41f7a783e5"
      },
      "source": [
        "def calc(expr):\n",
        "\n",
        "  prio = {'+': 1, '-': 1, '*': 2, '/': 2}\n",
        "  numbers_list = '1234567890'\n",
        "  operations_list = '+-*/'\n",
        "  brackets_list='()'\n",
        "  operations = {'+': lambda x, y: int(x) + int(y), '-': lambda x, y: int(x) - int(y), \\\n",
        "                '*': lambda x, y: int(x) * int(y), '/': lambda x, y: int(x) / int(y)}\n",
        "  def split_expr(ex):\n",
        "    lst = []\n",
        "    for i, s in enumerate(ex):\n",
        "      if s in operations_list:\n",
        "        lst.append(s)\n",
        "      elif s in brackets_list:\n",
        "        lst.append(s)\n",
        "      elif s in numbers_list:\n",
        "        try:\n",
        "          if ex[i-1] in numbers_list:\n",
        "            lst[-1] = lst[-1] + s\n",
        "          else:\n",
        "            lst.append(s)\n",
        "        except IndexError:\n",
        "          lst.append(s)\n",
        "    \n",
        "    return lst\n",
        "\n",
        "  def check_num(el):\n",
        "\n",
        "    for s in el:\n",
        "      if s in numbers_list:\n",
        "        continue\n",
        "      else:\n",
        "        return False\n",
        "      \n",
        "    return True\n",
        "\n",
        "  def some_1(el):\n",
        "    i = len(operations_stack) - 1\n",
        "\n",
        "    while operations_stack[i] in operations_list:\n",
        "      y = numbers_stack.pop()\n",
        "      x = numbers_stack.pop()\n",
        "      res = operations[operations_stack.pop()](x, y)\n",
        "      numbers_stack.append(res)\n",
        "      i -= 1\n",
        "\n",
        "\n",
        "  def some_2():\n",
        "    i = len(operations_stack) - 1\n",
        "\n",
        "    while operations_stack[i] != '(':\n",
        "      y = numbers_stack.pop()\n",
        "      x = numbers_stack.pop()\n",
        "      res = operations[operations_stack.pop()](x, y)\n",
        "      numbers_stack.append(res)\n",
        "      i -= 1\n",
        "\n",
        "    operations_stack.pop()\n",
        "    \n",
        "      \n",
        "  operations_stack = []\n",
        "  numbers_stack = []\n",
        "\n",
        "  expr_list = split_expr(expr)\n",
        "  \n",
        "  for el in expr_list:\n",
        "\n",
        "    if el in operations_list:\n",
        "      try:\n",
        "        if (operations_stack[-1] in operations_list) and (prio[operations_stack[-1]] < prio[el]):\n",
        "          operations_stack.append(el)\n",
        "        else:\n",
        "          some_1(el)\n",
        "          operations_stack.append(el)\n",
        "      except IndexError:\n",
        "        operations_stack.append(el)\n",
        "        continue\n",
        "\n",
        "          \n",
        "\n",
        "\n",
        "    elif el in brackets_list:\n",
        "      if el == '(':\n",
        "        operations_stack.append(el)\n",
        "      else:\n",
        "        some_2()\n",
        "\n",
        "\n",
        "    elif check_num(el):\n",
        "      numbers_stack.append(el)\n",
        "\n",
        "\n",
        "    else:\n",
        "      return 'Error'\n",
        "\n",
        "  y = numbers_stack.pop()\n",
        "  x = numbers_stack.pop()\n",
        "  res = operations[operations_stack.pop()](x, y)\n",
        "  return res\n",
        "\n",
        "calc('2 * (15 - 3 * 4) - 2') == 4"
      ],
      "execution_count": 89,
      "outputs": [
        {
          "output_type": "execute_result",
          "data": {
            "text/plain": [
              "True"
            ]
          },
          "metadata": {
            "tags": []
          },
          "execution_count": 89
        }
      ]
    }
  ]
}