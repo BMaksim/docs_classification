{
  "nbformat": 4,
  "nbformat_minor": 0,
  "metadata": {
    "kernelspec": {
      "display_name": "ML_env",
      "language": "python",
      "name": "ml_env"
    },
    "language_info": {
      "codemirror_mode": {
        "name": "ipython",
        "version": 3
      },
      "file_extension": ".py",
      "mimetype": "text/x-python",
      "name": "python",
      "nbconvert_exporter": "python",
      "pygments_lexer": "ipython3",
      "version": "3.6.9"
    },
    "colab": {
      "name": "Task_4.ipynb",
      "provenance": [],
      "collapsed_sections": []
    }
  },
  "cells": [
    {
      "cell_type": "markdown",
      "metadata": {
        "id": "qC1C9c83PxgE"
      },
      "source": [
        "# Линейная регрессия"
      ]
    },
    {
      "cell_type": "markdown",
      "metadata": {
        "id": "IG78WldEPxgE"
      },
      "source": [
        "Данные содержатся в файле `data/lin_reg.txt`. Прочитать их можно следующим так:"
      ]
    },
    {
      "cell_type": "code",
      "metadata": {
        "colab": {
          "base_uri": "https://localhost:8080/"
        },
        "id": "cKrSVDmePxgF",
        "outputId": "9a18db70-f650-43f7-85a6-fbb39c0bd9c2"
      },
      "source": [
        "from google.colab import drive\n",
        "import numpy as np\n",
        "from matplotlib import pyplot as plt\n",
        "\n",
        "drive.mount('/content/drive')\n",
        "dir = \"/content/drive/My Drive/lin_reg.txt\"\n",
        "FOLDS = 5\n",
        "D = np.loadtxt(dir, delimiter=',')\n",
        "D = (D - D.mean())/D.std()\n",
        "np.random.shuffle(D)"
      ],
      "execution_count": 12,
      "outputs": [
        {
          "output_type": "stream",
          "text": [
            "Mounted at /content/drive\n"
          ],
          "name": "stdout"
        }
      ]
    },
    {
      "cell_type": "markdown",
      "metadata": {
        "id": "g970Pe57PxgH"
      },
      "source": [
        "При выполнении заданий **нельзя** пользоваться `scikit-learn` и т.п., только `NumPy`/`JAX`/`TF`/`PyTorch` и `matplotlib`/`seaborn`/`plotly`/etc.\n",
        "\n",
        "1. Нарисуйте график среднеквадратичной ошибки в зависимости от параметра регуляризации $\\alpha$, используя полные данные для обучения и для тестирования. \n",
        "2. Подготовьте исходные данные для 5 fold CV.\n",
        "3. С помощью CV найдите оптимальное значение $\\alpha$ на какой-нибудь сетке значений.\n",
        "4. Постройте валидационную кривую. \n",
        "5. Постройте кривую обучения."
      ]
    },
    {
      "cell_type": "code",
      "metadata": {
        "id": "CKij4wcwHCuW"
      },
      "source": [
        "def mse1(y_hat, y, w, a):\n",
        "    loss = (((y_hat - y)**2).sum() + a*(w**2).sum()/2)/y.shape[0]\n",
        "    return loss\n",
        "\n",
        "\n",
        "def lin_f1(x, w, b):\n",
        "    y_hat = np.dot(x, w) + b\n",
        "    return y_hat\n",
        "\n",
        "\n",
        "def get_grads(y_hat, x, y, w, b, alpha):\n",
        "    w_grad = (np.dot((-2*(y - y_hat)).T, x) + alpha*2*w.sum())/y.shape[0]\n",
        "    b_grad = (-2*(y - y_hat).sum() + alpha*2*b)/y.shape[0]\n",
        "    return w_grad.T, b_grad\n",
        "\n",
        "\n",
        "def split_data(D, prop):\n",
        "    n = round(len(D)*prop)\n",
        "    return D[:n, :-1], D[n:, :-1], D[:n, -1], D[n:, -1]\n",
        "\n",
        "\n",
        "def CV_data(d, f):\n",
        "    lst = []\n",
        "    for i in range(f):\n",
        "      lst.append(d[i*len(addd)//f: (i+1)*len(d)//f])\n",
        "    return lst"
      ],
      "execution_count": 51,
      "outputs": []
    },
    {
      "cell_type": "markdown",
      "metadata": {
        "id": "EWiF958-lpww"
      },
      "source": [
        "<h1> Пункт 1 </h2>"
      ]
    },
    {
      "cell_type": "code",
      "metadata": {
        "colab": {
          "base_uri": "https://localhost:8080/",
          "height": 300
        },
        "id": "OvJXYbPMHBTV",
        "outputId": "c44d9a04-533f-4a3e-aa11-52f0c9502faa"
      },
      "source": [
        "N_EPOCHS = 1000\n",
        "LEARNING_RATE = 0.01\n",
        "\n",
        "np.random.seed(123)\n",
        "weights = np.random.random((D.shape[1]-1, 1))\n",
        "bias = np.random.random((1, 1))\n",
        "alphas = [0.0001, 0.001, 0.1, 1.0, 10]\n",
        "\n",
        "X_train, X_test, Y_train, Y_test = split_data(D, 0.8)\n",
        "Y_train, Y_test = Y_train.reshape((len(Y_train), 1)), Y_test.reshape((len(Y_test), 1)) \n",
        "\n",
        "losses = []\n",
        "\n",
        "for alpha in alphas:\n",
        "  for epoch in range(N_EPOCHS):\n",
        "      y_hat = lin_f1(X_train, weights, bias).reshape((len(Y_train), 1))\n",
        "      loss = mse1(y_hat, Y_train, weights, alpha)\n",
        "      \n",
        "      w_grad, b_grad = get_grads(y_hat, X_train, Y_train, weights, bias, alpha)\n",
        "      weights -= w_grad*LEARNING_RATE\n",
        "      bias -= b_grad*LEARNING_RATE\n",
        "  \n",
        "  y_hat = lin_f1(X_test, weights, bias).reshape((len(Y_test), 1))\n",
        "  loss = mse1(y_hat, Y_test, weights, alpha)\n",
        "  losses.append(loss)\n",
        "        \n",
        "\n",
        "plt.plot(alphas, losses[::-1])\n",
        "plt.xlabel('alpha')\n",
        "plt.ylabel('loss')"
      ],
      "execution_count": 105,
      "outputs": [
        {
          "output_type": "execute_result",
          "data": {
            "text/plain": [
              "Text(0, 0.5, 'loss')"
            ]
          },
          "metadata": {
            "tags": []
          },
          "execution_count": 105
        },
        {
          "output_type": "display_data",
          "data": {
            "image/png": "[encoded data removed]",
            "text/plain": [
              "<Figure size 432x288 with 1 Axes>"
            ]
          },
          "metadata": {
            "tags": [],
            "needs_background": "light"
          }
        }
      ]
    },
    {
      "cell_type": "markdown",
      "metadata": {
        "id": "Xjhfv2ueXa8W"
      },
      "source": [
        "<h1> Пункты 2-5 </h1>"
      ]
    },
    {
      "cell_type": "code",
      "metadata": {
        "id": "7TX9lfWCkDZC"
      },
      "source": [
        "N_EPOCHS = 1000\n",
        "LEARNING_RATE = 0.01\n",
        "FOLDS = 5\n",
        "\n",
        "np.random.seed(123)\n",
        "weights = np.random.random((D.shape[1]-1, 1))\n",
        "bias = np.random.random((1, 1))\n",
        "alphas = np.arange(0, 0.1, 0.002)\n",
        "\n",
        "cv = CV_data(D, FOLDS)\n",
        "train_losses = []\n",
        "test_losses = []\n",
        "\n",
        "for alpha in alphas:\n",
        "\n",
        "  local_train_losses = np.array([])\n",
        "  local_test_losses = np.array([])\n",
        "\n",
        "  for i in range(FOLDS):\n",
        "\n",
        "    D_train, D_test = np.vstack(tuple(cv[:i] + cv[i+1:])), cv[i]\n",
        "    X_train, Y_train = D_train[:, :-1], D_train[:, -1]\n",
        "    X_test, Y_test = D_test[:, :-1], D_test[:, -1]\n",
        "    Y_train, Y_test = Y_train.reshape((len(Y_train), 1)), Y_test.reshape((len(Y_test), 1)) \n",
        "    \n",
        "    for epoch in range(N_EPOCHS):\n",
        "\n",
        "      y_hat = lin_f1(X_train, weights, bias).reshape((len(Y_train), 1))\n",
        "      loss = mse1(y_hat, Y_train, weights, alpha)\n",
        "\n",
        "      if epoch == N_EPOCHS - 1:\n",
        "        local_train_losses = np.append(local_train_losses, loss)\n",
        "      \n",
        "      w_grad, b_grad = get_grads(y_hat, X_train, Y_train, weights, bias, alpha)\n",
        "      weights -= w_grad*LEARNING_RATE\n",
        "      bias -= b_grad*LEARNING_RATE\n",
        "  \n",
        "    y_hat = lin_f1(X_test, weights, bias).reshape((len(Y_test), 1))\n",
        "    loss = mse1(y_hat, Y_test, weights, alpha)\n",
        "    local_test_losses = np.append(local_test_losses, loss)\n",
        "  \n",
        "  train_losses.append(local_train_losses.mean())\n",
        "  test_losses.append(local_test_losses.mean())"
      ],
      "execution_count": 101,
      "outputs": []
    },
    {
      "cell_type": "code",
      "metadata": {
        "colab": {
          "base_uri": "https://localhost:8080/"
        },
        "id": "DVhu3tgtSq5z",
        "outputId": "58e298e6-ecef-4ef3-bf6e-08eef8f85852"
      },
      "source": [
        "idx = list.index(test_losses, min(test_losses))\n",
        "print('Оптимальное значение параметра alpha на сетке arange(0, 0.1, 0.002):', alphas[idx])"
      ],
      "execution_count": 102,
      "outputs": [
        {
          "output_type": "stream",
          "text": [
            "Оптимальное значение параметра alpha на сетке arange(0, 0.1, 0.002): 0.002\n"
          ],
          "name": "stdout"
        }
      ]
    },
    {
      "cell_type": "code",
      "metadata": {
        "colab": {
          "base_uri": "https://localhost:8080/",
          "height": 296
        },
        "id": "gi74brVZoRg1",
        "outputId": "3ee199f5-45af-4adc-e835-a92e638e2b67"
      },
      "source": [
        "plt.plot(alphas, train_losses, label='train curve')\n",
        "plt.plot(alphas, test_losses, label='test curve')\n",
        "\n",
        "plt.ylabel('loss')\n",
        "plt.xlabel('alpha')\n",
        "plt.legend()"
      ],
      "execution_count": 104,
      "outputs": [
        {
          "output_type": "execute_result",
          "data": {
            "text/plain": [
              "<matplotlib.legend.Legend at 0x7f1e1ab458d0>"
            ]
          },
          "metadata": {
            "tags": []
          },
          "execution_count": 104
        },
        {
          "output_type": "display_data",
          "data": {
            "image/png": "[encoded data removed]",
            "text/plain": [
              "<Figure size 432x288 with 1 Axes>"
            ]
          },
          "metadata": {
            "tags": [],
            "needs_background": "light"
          }
        }
      ]
    }
  ]
}