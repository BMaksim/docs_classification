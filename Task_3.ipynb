{
 "cells": [
  {
   "cell_type": "code",
   "execution_count": 121,
   "metadata": {
    "jupyter": {
     "outputs_hidden": true
    }
   },
   "outputs": [],
   "source": [
    "import pandas as pd\n",
    "import matplotlib.pyplot as plt\n",
    "import numpy as np\n",
    "from datetime import datetime"
   ]
  },
  {
   "cell_type": "markdown",
   "metadata": {},
   "source": [
    "В файле `data/weather.csv` находит архив погоды в г. Санкт-Петербург с 1 января 2008 года по 31 декабря 2016 года. Файл состоит из двух столбцов - дата (**Day**) и средняя дневная температура в этот день (**t**). Прочитать данные в `pandas` можно с помощью кода:"
   ]
  },
  {
   "cell_type": "code",
   "execution_count": 10,
   "metadata": {},
   "outputs": [],
   "source": [
    "df = pd.read_csv('data/weather.csv', encoding='utf-8', index_col=False, parse_dates=[0])"
   ]
  },
  {
   "cell_type": "code",
   "execution_count": 46,
   "metadata": {},
   "outputs": [
    {
     "data": {
      "text/plain": [
       "8.137595129375951"
      ]
     },
     "execution_count": 46,
     "metadata": {},
     "output_type": "execute_result"
    }
   ],
   "source": [
    "df.head(5)\n",
    "df.t.mean()"
   ]
  },
  {
   "cell_type": "markdown",
   "metadata": {},
   "source": [
    "С помощью `Pandas` решите следующие задачи"
   ]
  },
  {
   "cell_type": "markdown",
   "metadata": {},
   "source": [
    "**1.** Определите самый холодный год, в котором среднеяя температура была минимальная и самый теплый год. "
   ]
  },
  {
   "cell_type": "code",
   "execution_count": 80,
   "metadata": {
    "jupyter": {
     "outputs_hidden": true
    }
   },
   "outputs": [
    {
     "name": "stdout",
     "output_type": "stream",
     "text": [
      "Самый теплый год: 2015 год\n",
      "Самый холодный год: 2012 год\n"
     ]
    }
   ],
   "source": [
    "temperature = []\n",
    "for i in range(2008,2017):\n",
    "    year = df[(df.Day >= pd.Timestamp(i, 1, 1)) & (pd.Timestamp(i+1, 1, 1) >= df.Day)]\n",
    "    temperature.append(year.t.mean())\n",
    "print('Самый теплый год:', 2008 + temperature.index(max(temperature)), 'год')\n",
    "print('Самый холодный год:', 2008 + temperature.index(min(temperature)), 'год')"
   ]
  },
  {
   "cell_type": "markdown",
   "metadata": {},
   "source": [
    "**2.** Определите год, где в январе было наибольшее число дней с положительной температурой ($\\text{t} \\ge 0$)."
   ]
  },
  {
   "cell_type": "code",
   "execution_count": 83,
   "metadata": {
    "jupyter": {
     "outputs_hidden": true
    }
   },
   "outputs": [
    {
     "name": "stdout",
     "output_type": "stream",
     "text": [
      "Наибольшее число дней с положительной температурой в январе: 2009 год\n"
     ]
    }
   ],
   "source": [
    "temperature = []\n",
    "for i in range(2008,2017):\n",
    "    year = df[(df['Day'] >= pd.Timestamp(i, 1, 1)) & (pd.Timestamp(i, 1, 31) >= df['Day']) & (df.t >=0)]\n",
    "    temperature.append(year.t.mean())\n",
    "    temperature.append(year.shape[0])\n",
    "print('Наибольшее число дней с положительной температурой в январе:',\\\n",
    "          2008 + temperature.index(max(temperature)), 'год')"
   ]
  },
  {
   "cell_type": "markdown",
   "metadata": {},
   "source": [
    "**3.** В каком году было самое холодное лето (по средней температуре)"
   ]
  },
  {
   "cell_type": "code",
   "execution_count": 86,
   "metadata": {
    "jupyter": {
     "outputs_hidden": true
    }
   },
   "outputs": [
    {
     "name": "stdout",
     "output_type": "stream",
     "text": [
      "Самое холодное лето: 2008 год\n"
     ]
    }
   ],
   "source": [
    "temperature = []\n",
    "for i in range(2008,2017):\n",
    "    year = df[(df['Day'] >= pd.Timestamp(i, 6, 1)) & (pd.Timestamp(i, 8, 31) >= df['Day'])]\n",
    "    temperature.append(year.t.mean())\n",
    "print('Самое холодное лето:', 2008 + temperature.index(min(temperature)), 'год')"
   ]
  },
  {
   "cell_type": "markdown",
   "metadata": {},
   "source": [
    "**4.** Найдите день с самой большим перепадом температуры, если сравнивать со следующим днем. "
   ]
  },
  {
   "cell_type": "code",
   "execution_count": 132,
   "metadata": {
    "jupyter": {
     "outputs_hidden": true
    }
   },
   "outputs": [
    {
     "data": {
      "text/plain": [
       "'2014-05-26'"
      ]
     },
     "execution_count": 132,
     "metadata": {},
     "output_type": "execute_result"
    }
   ],
   "source": [
    "temperature = np.array(df.t)\n",
    "temperature = list(abs(temperature[1:] - temperature[:-1]))\n",
    "idx = temperature.index(max(temperature))\n",
    "str(df.Day[idx].date())"
   ]
  },
  {
   "cell_type": "markdown",
   "metadata": {},
   "source": [
    "**5.** Постройте график среднегодовых температур (по оси $x$ - год, по оси $y$ - средняя температура в этот год)."
   ]
  },
  {
   "cell_type": "code",
   "execution_count": 109,
   "metadata": {
    "jupyter": {
     "outputs_hidden": true
    }
   },
   "outputs": [
    {
     "data": {
      "text/plain": [
       "Text(0.5, 0, 'Средняя температура')"
      ]
     },
     "execution_count": 109,
     "metadata": {},
     "output_type": "execute_result"
    },
    {
     "data": {
      "image/png": "[encoded data removed]",
      "text/plain": [
       "<Figure size 432x288 with 1 Axes>"
      ]
     },
     "metadata": {
      "needs_background": "light"
     },
     "output_type": "display_data"
    }
   ],
   "source": [
    "X = np.arange(2008,2017)\n",
    "Y = []\n",
    "for i in range(2008,2017):\n",
    "    year = df[(df.Day >= pd.Timestamp(i, 1, 1)) & (pd.Timestamp(i+1, 1, 1) >= df.Day)]\n",
    "    Y.append(year.t.mean())\n",
    "plt.plot(X, Y)\n",
    "plt.xlabel('Год')\n",
    "plt.xlabel('Средняя температура')"
   ]
  },
  {
   "cell_type": "code",
   "execution_count": null,
   "metadata": {},
   "outputs": [],
   "source": []
  }
 ],
 "metadata": {
  "kernelspec": {
   "display_name": "ML_env",
   "language": "python",
   "name": "ml_env"
  },
  "language_info": {
   "codemirror_mode": {
    "name": "ipython",
    "version": 3
   },
   "file_extension": ".py",
   "mimetype": "text/x-python",
   "name": "python",
   "nbconvert_exporter": "python",
   "pygments_lexer": "ipython3",
   "version": "3.6.9"
  }
 },
 "nbformat": 4,
 "nbformat_minor": 4
}
