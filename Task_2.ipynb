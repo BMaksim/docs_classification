{
  "nbformat": 4,
  "nbformat_minor": 0,
  "metadata": {
    "kernelspec": {
      "display_name": "ML_env",
      "language": "python",
      "name": "ml_env"
    },
    "language_info": {
      "codemirror_mode": {
        "name": "ipython",
        "version": 3
      },
      "file_extension": ".py",
      "mimetype": "text/x-python",
      "name": "python",
      "nbconvert_exporter": "python",
      "pygments_lexer": "ipython3",
      "version": "3.6.9"
    },
    "colab": {
      "name": "Task_2.ipynb",
      "provenance": [],
      "collapsed_sections": []
    }
  },
  "cells": [
    {
      "cell_type": "code",
      "metadata": {
        "id": "eoMZS3Q6JiMJ"
      },
      "source": [
        "import numpy as np\n",
        "import scipy as sp\n",
        "import matplotlib.pyplot as plt\n",
        "import seaborn as sns\n",
        "\n",
        "%matplotlib inline"
      ],
      "execution_count": 2,
      "outputs": []
    },
    {
      "cell_type": "markdown",
      "metadata": {
        "id": "RdgoFvL-JiMK"
      },
      "source": [
        "# 1. Работа с массивами NumPy"
      ]
    },
    {
      "cell_type": "markdown",
      "metadata": {
        "id": "41U_6xrDJiMK"
      },
      "source": [
        "**N. Все упражнения ниже нужно делать без использования циклов Python**\n",
        "\n",
        "**1.** Cоздать вектор\n",
        "\n",
        "$$(2, \\frac{2^2}{2}, \\ldots, \\frac{2^{20}}{20})$$\n",
        "\n",
        "Можно использовать функции [np.arange()](http://docs.scipy.org/doc/numpy/reference/generated/numpy.arange.html), [np.ones()](http://docs.scipy.org/doc/numpy/reference/generated/numpy.ones.html)"
      ]
    },
    {
      "cell_type": "code",
      "metadata": {
        "id": "kwFFnwayJiMK",
        "outputId": "aec1f5a7-dd05-4d00-e206-3211b13b3509"
      },
      "source": [
        "a = ((2*np.ones(20))**np.arange(1, 21))/np.arange(1, 21)\n",
        "a"
      ],
      "execution_count": null,
      "outputs": [
        {
          "output_type": "execute_result",
          "data": {
            "text/plain": [
              "array([2.00000000e+00, 2.00000000e+00, 2.66666667e+00, 4.00000000e+00,\n",
              "       6.40000000e+00, 1.06666667e+01, 1.82857143e+01, 3.20000000e+01,\n",
              "       5.68888889e+01, 1.02400000e+02, 1.86181818e+02, 3.41333333e+02,\n",
              "       6.30153846e+02, 1.17028571e+03, 2.18453333e+03, 4.09600000e+03,\n",
              "       7.71011765e+03, 1.45635556e+04, 2.75941053e+04, 5.24288000e+04])"
            ]
          },
          "metadata": {
            "tags": []
          },
          "execution_count": 47
        }
      ]
    },
    {
      "cell_type": "markdown",
      "metadata": {
        "id": "3Z9kH_mTJiMN"
      },
      "source": [
        "**2.** Посчитать:\n",
        "\n",
        "$$\\sum\\limits_{i=0}^{5}{0.1^{3i}0.2^{4i}}$$\n"
      ]
    },
    {
      "cell_type": "code",
      "metadata": {
        "id": "Is0tvgGsJiMN",
        "outputId": "f84bb38f-d898-491e-d73b-0e64354bd23a"
      },
      "source": [
        "b = ((0.1**(3*np.arange(6)))*(0.2**(4*np.arange(6)))).sum()\n",
        "b"
      ],
      "execution_count": null,
      "outputs": [
        {
          "output_type": "execute_result",
          "data": {
            "text/plain": [
              "1.00000160000256"
            ]
          },
          "metadata": {
            "tags": []
          },
          "execution_count": 15
        }
      ]
    },
    {
      "cell_type": "markdown",
      "metadata": {
        "id": "ZjhaLf5AJiMN"
      },
      "source": [
        "**3.** Создать нулевую матрицe $8 \\times 8$, и заполнить её единицами в шахматном порядке."
      ]
    },
    {
      "cell_type": "code",
      "metadata": {
        "id": "GLgmnhnJJiMO",
        "colab": {
          "base_uri": "https://localhost:8080/"
        },
        "outputId": "81c16468-4629-4559-ed64-024c3514ddc7"
      },
      "source": [
        "def gen(i, j):\n",
        "  return np.where((i+j)%2 == 0, 1, 0)\n",
        "\n",
        "b = np.fromfunction(gen, (8, 8), dtype=int)\n",
        "b"
      ],
      "execution_count": 32,
      "outputs": [
        {
          "output_type": "execute_result",
          "data": {
            "text/plain": [
              "array([[1, 0, 1, 0, 1, 0, 1, 0],\n",
              "       [0, 1, 0, 1, 0, 1, 0, 1],\n",
              "       [1, 0, 1, 0, 1, 0, 1, 0],\n",
              "       [0, 1, 0, 1, 0, 1, 0, 1],\n",
              "       [1, 0, 1, 0, 1, 0, 1, 0],\n",
              "       [0, 1, 0, 1, 0, 1, 0, 1],\n",
              "       [1, 0, 1, 0, 1, 0, 1, 0],\n",
              "       [0, 1, 0, 1, 0, 1, 0, 1]])"
            ]
          },
          "metadata": {
            "tags": []
          },
          "execution_count": 32
        }
      ]
    },
    {
      "cell_type": "markdown",
      "metadata": {
        "id": "tAeqmUmFJiMO"
      },
      "source": [
        "**4.** Есть 5 точек в декартовой системе координат (в виде матрицы $X$ размерностью $5 \\times 2$), сконвертируйте эти точки в полярную систему координат."
      ]
    },
    {
      "cell_type": "code",
      "metadata": {
        "id": "dMsa4h70JiMO",
        "outputId": "e165a08e-3873-4302-c94c-81829d07b83d"
      },
      "source": [
        "X = np.random.random((5, 2))\n",
        "\n",
        "r = np.sqrt(X[:, 0]**2 + X[:, 1]**2)\n",
        "f = np.arccos(X[:, 0]/r)\n",
        "Y = np.vstack((r, f)).T\n",
        "Y"
      ],
      "execution_count": null,
      "outputs": [
        {
          "output_type": "execute_result",
          "data": {
            "text/plain": [
              "array([[0.7836729 , 0.48792126],\n",
              "       [0.63079921, 1.48461866],\n",
              "       [1.07770818, 0.51551745],\n",
              "       [0.87132413, 0.27906982],\n",
              "       [0.89910522, 0.3979349 ]])"
            ]
          },
          "metadata": {
            "tags": []
          },
          "execution_count": 54
        }
      ]
    },
    {
      "cell_type": "markdown",
      "metadata": {
        "id": "XFqqpNplJiMO"
      },
      "source": [
        "**5.** Найдите индексы максимального элемента в случайной матрице $10 \\times 10$.\n",
        "\n",
        "Cм. [np.argmax()](http://docs.scipy.org/doc/numpy/reference/generated/numpy.argmax.html)."
      ]
    },
    {
      "cell_type": "code",
      "metadata": {
        "id": "rAtVqCOUJiMO",
        "outputId": "1ae8b242-8d49-4c52-a861-96f065ec964e"
      },
      "source": [
        "X = np.random.random((10, 10))\n",
        "\n",
        "ind = np.argmax(X)\n",
        "d = (ind//10, ind - (ind//10)*10)\n",
        "d"
      ],
      "execution_count": null,
      "outputs": [
        {
          "output_type": "execute_result",
          "data": {
            "text/plain": [
              "(7, 6)"
            ]
          },
          "metadata": {
            "tags": []
          },
          "execution_count": 53
        }
      ]
    },
    {
      "cell_type": "markdown",
      "metadata": {
        "id": "rLCcyEdyJiMO"
      },
      "source": [
        "**6.** Есть 10 точек ($X$) и ещё одна ($y$). Найти в $X$ ближайшую к $y$ точку."
      ]
    },
    {
      "cell_type": "code",
      "metadata": {
        "id": "DpVkpZpXJiMO",
        "outputId": "55891301-91ac-4192-c505-573255fa669a"
      },
      "source": [
        "X = np.random.random((10, 2))\n",
        "y = np.random.random((1, 2))\n",
        "e = np.argmax(((X - y)**2).sum(axis=1))\n",
        "X[e]"
      ],
      "execution_count": null,
      "outputs": [
        {
          "output_type": "execute_result",
          "data": {
            "text/plain": [
              "array([0.01265813, 0.20349296])"
            ]
          },
          "metadata": {
            "tags": []
          },
          "execution_count": 49
        }
      ]
    },
    {
      "cell_type": "markdown",
      "metadata": {
        "id": "Y9SQbdoqJiMO"
      },
      "source": [
        "**7.** Дана функция:\n",
        "\n",
        "$$\n",
        " \\begin{cases}\n",
        "    x^2 + 2x + 6, & x < 0  \\\\\n",
        "    x + 6, & 0 \\le x \\le 2 \\\\\n",
        "    x^2 + 4x - 4, & x \\ge 2\n",
        " \\end{cases}\n",
        "$$\n",
        "\n",
        "Постройте массив из её значений на  $-3 \\le x \\le 3$."
      ]
    },
    {
      "cell_type": "code",
      "metadata": {
        "id": "JET8uSAFJiMO",
        "outputId": "9f7d9bf0-19e7-4e7e-b423-654789870995"
      },
      "source": [
        "x1, x2, x3 = np.arange(-3, 0, 0.2), np.arange(0, 2.1, 0.2), np.arange(2, 0, 3.1)\n",
        "f = np.hstack(((x1**2 + 2*x1) + 6, x2 + 6, x3**2 + 4*x3 -4))\n",
        "f"
      ],
      "execution_count": null,
      "outputs": [
        {
          "output_type": "execute_result",
          "data": {
            "text/plain": [
              "array([9.  , 8.24, 7.56, 6.96, 6.44, 6.  , 5.64, 5.36, 5.16, 5.04, 5.  ,\n",
              "       5.04, 5.16, 5.36, 5.64, 6.  , 6.2 , 6.4 , 6.6 , 6.8 , 7.  , 7.2 ,\n",
              "       7.4 , 7.6 , 7.8 , 8.  ])"
            ]
          },
          "metadata": {
            "tags": []
          },
          "execution_count": 50
        }
      ]
    },
    {
      "cell_type": "markdown",
      "metadata": {
        "id": "f25tc8TJJiMO"
      },
      "source": [
        "**8.** Из каждого элемента матрицы вычесть среднее арифметическое от всех элементов в соответствующей строке (после чего среднее значение каждой строки должно равняться нулю).\n",
        "\n",
        "Cм. [np.mean()](http://docs.scipy.org/doc/numpy/reference/generated/numpy.mean.html)."
      ]
    },
    {
      "cell_type": "code",
      "metadata": {
        "id": "JaUr7UcHJiMO",
        "outputId": "acd9af15-4059-4a76-c179-793f35dae993"
      },
      "source": [
        "X = np.random.random((10, 10))\n",
        "\n",
        "X = X - X.mean(axis=1).reshape(10, 1)\n",
        "X.mean(axis=1)"
      ],
      "execution_count": null,
      "outputs": [
        {
          "output_type": "execute_result",
          "data": {
            "text/plain": [
              "array([-4.44089210e-17, -3.33066907e-17,  5.55111512e-18, -3.33066907e-17,\n",
              "       -5.55111512e-17,  2.22044605e-17,  1.33226763e-16,  0.00000000e+00,\n",
              "       -8.88178420e-17,  0.00000000e+00])"
            ]
          },
          "metadata": {
            "tags": []
          },
          "execution_count": 59
        }
      ]
    },
    {
      "cell_type": "markdown",
      "metadata": {
        "id": "4F2ycv5TJiMO"
      },
      "source": [
        "**9.** Есть массив из 1000 чисел, полученных из генератора случайных чисел, имеющий нормальное распределение. Посчитайте выборочное среднее и выборочную дисперсию. "
      ]
    },
    {
      "cell_type": "code",
      "metadata": {
        "id": "5ZYcKDx_JiMO",
        "outputId": "7e301b44-7f4e-44b5-edcb-d1647ad07579"
      },
      "source": [
        "X = np.random.normal(loc=5, scale=2., size=1000)\n",
        "\n",
        "m = X.sum()/len(X)\n",
        "d = ((X - m)**2).sum() / len(X)\n",
        "print(f\"mean = {m}, disp = {d}\")"
      ],
      "execution_count": null,
      "outputs": [
        {
          "output_type": "stream",
          "text": [
            "mean = 4.985546628747563, disp = 3.836622872274078\n"
          ],
          "name": "stdout"
        }
      ]
    },
    {
      "cell_type": "markdown",
      "metadata": {
        "id": "NlrwIwatJiMP"
      },
      "source": [
        "**10.** Создать матрицу:\n",
        "\n",
        "$$\n",
        "\\begin{pmatrix}\n",
        "0 & 1 & 2 & 3 & 4 \\\\\n",
        "1 & 2 & 3 & 4 & 0 \\\\\n",
        "2 & 3 & 4 & 0 & 1 \\\\\n",
        "3 & 4 & 0 & 1 & 2 \\\\\n",
        "4 & 0 & 1 & 2 & 3\n",
        "\\end{pmatrix}\n",
        "$$"
      ]
    },
    {
      "cell_type": "code",
      "metadata": {
        "id": "3HNq-vSPJiMP",
        "colab": {
          "base_uri": "https://localhost:8080/"
        },
        "outputId": "20f99f98-8ab0-499b-a4ae-2b60136ec3b7"
      },
      "source": [
        "def gen(i, j):\n",
        "  return np.where((i+j-5) >= 0, i + j - 5, i + j)\n",
        "\n",
        "z = np.fromfunction(gen, (5, 5), dtype=int)\n",
        "z"
      ],
      "execution_count": 33,
      "outputs": [
        {
          "output_type": "execute_result",
          "data": {
            "text/plain": [
              "array([[0, 1, 2, 3, 4],\n",
              "       [1, 2, 3, 4, 0],\n",
              "       [2, 3, 4, 0, 1],\n",
              "       [3, 4, 0, 1, 2],\n",
              "       [4, 0, 1, 2, 3]])"
            ]
          },
          "metadata": {
            "tags": []
          },
          "execution_count": 33
        }
      ]
    },
    {
      "cell_type": "markdown",
      "metadata": {
        "id": "ZscZVs8qJiMQ"
      },
      "source": [
        "**11.** Есть следующий алгоритм семплинирования, на вход функции подается вектор из целых положительных чисел и число семплов."
      ]
    },
    {
      "cell_type": "code",
      "metadata": {
        "id": "pwaOAai1JiMQ",
        "colab": {
          "base_uri": "https://localhost:8080/"
        },
        "outputId": "be3e27d7-318b-453f-8c58-8add08208a62"
      },
      "source": [
        "def sample(x, c):\n",
        "    assert len(x) > 0\n",
        "    \n",
        "    s = np.sum(x)\n",
        "    res = []\n",
        "    for _ in range(c):\n",
        "        val = s * np.random.random()\n",
        "        print(val)\n",
        "        cur, idx = 0, 0        \n",
        "        while cur + x[idx] <= val:\n",
        "            cur += x[idx]\n",
        "            idx += 1\n",
        "            \n",
        "        res.append(idx)\n",
        "    return res\n",
        "\n",
        "            \n",
        "sample([50, 3, 1, 7, 20], 5)    "
      ],
      "execution_count": 42,
      "outputs": [
        {
          "output_type": "stream",
          "text": [
            "66.04622155533677\n",
            "63.85772342212051\n",
            "71.47846185618539\n",
            "57.47796737772245\n",
            "3.060632906294311\n"
          ],
          "name": "stdout"
        },
        {
          "output_type": "execute_result",
          "data": {
            "text/plain": [
              "[4, 4, 4, 3, 0]"
            ]
          },
          "metadata": {
            "tags": []
          },
          "execution_count": 42
        }
      ]
    },
    {
      "cell_type": "markdown",
      "metadata": {
        "id": "6VCxJSKcJiMQ"
      },
      "source": [
        "Реализуйте данный алгоритм более оптимальным способом, без использования циклов."
      ]
    },
    {
      "cell_type": "code",
      "metadata": {
        "id": "9tEV5QWwJiMQ",
        "colab": {
          "base_uri": "https://localhost:8080/"
        },
        "outputId": "117e29a2-361b-496f-d8ec-536f6415e9e9"
      },
      "source": [
        "def optim_sample(x, c):\n",
        "    assert len(x) > 0\n",
        "    \n",
        "    s = np.sum(x)\n",
        "    val = s*np.random.random(c).reshape((c, 1))\n",
        "    x = np.array(x).cumsum().reshape((1, c))\n",
        "    res = (x < val).astype('int')\n",
        "    return res.sum(axis=1)\n",
        "\n",
        "optim_sample([50, 3, 1, 7, 20], 5)"
      ],
      "execution_count": 47,
      "outputs": [
        {
          "output_type": "execute_result",
          "data": {
            "text/plain": [
              "array([4, 0, 4, 0, 4])"
            ]
          },
          "metadata": {
            "tags": []
          },
          "execution_count": 47
        }
      ]
    },
    {
      "cell_type": "code",
      "metadata": {
        "id": "uSpMWeH4WbVj"
      },
      "source": [
        ""
      ],
      "execution_count": 18,
      "outputs": []
    }
  ]
}